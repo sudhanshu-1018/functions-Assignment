{
 "cells": [
  {
   "cell_type": "code",
   "execution_count": null,
   "id": "d4c16a34-8841-412b-abcf-6b904e05a819",
   "metadata": {},
   "outputs": [],
   "source": [
    "#                                        Theory Questions:"
   ]
  },
  {
   "cell_type": "code",
   "execution_count": null,
   "id": "26f6257d-98f2-4938-bcf2-1ec38cf98fc9",
   "metadata": {},
   "outputs": [],
   "source": [
    "'''\n",
    "Note: For each theory Question, give at least one example.\n",
    "\n",
    "1.\tWhat is the difference between a function and a method in Python?\n",
    "  ->A function is a piece of code that performs a specific task and can be called anywhere in your program.\n",
    "  ->A method is a function that is associated with an object and is called on that object. Methods are defined\n",
    "    within classes.\n",
    "    \n",
    "2.\tExplain the concept of function arguments and parameters in Python.\n",
    "  ->Parameters: Variables listed inside the parentheses in the function definition.\n",
    "  ->Arguments: Values passed to the function when it is called.\n",
    "\n",
    "3.\tWhat are the different ways to define and call a function in Python?\n",
    "  ->1. Regular Functions: def func(x,y):\n",
    "                                return x+y\n",
    "                          func(4,5)\n",
    "                          \n",
    "  ->2. Lambda Functions: add=lambda x,y:x+y\n",
    "                         add(4,5)\n",
    "                         \n",
    "  ->3. Functions with Default Parameters: def func(x,y=5):\n",
    "                                                return x+y\n",
    "                                          func(4)\n",
    "                                          \n",
    "  ->4. Functions with Variable-Length Arguments: def func(*args,**kwargs):\n",
    "                                                       return args,kwargs\n",
    "                                                 func(2,6,4,a=8,g=9)\n",
    "  ->5. Nested Functions: def func(x):\n",
    "                             def func2(y):\n",
    "                                 return x+y\n",
    "                             return func2\n",
    "\n",
    "                         add=func(5)\n",
    "                         result=add(10)\n",
    "                         print(result)\n",
    "                                  \n",
    "  ->6. Recursive Functions: def factorial(x):\n",
    "                                if x==1:\n",
    "                                   return 1\n",
    "                                else:\n",
    "                                   return x*factorial(x-1)\n",
    "                            factorial(5)\n",
    "\n",
    "4.\tWhat is the purpose of the 'return' statement in a Python function?\n",
    "  ->The return statement is used to exit a function and return a value to the caller.\n",
    "\n",
    "5.\tWhat are iterators in Python and how do they differ from iterables?\n",
    "  ->Iterable: An object that can return an iterator (e.g., lists, tuples, strings).\n",
    "  ->Iterator: An object that represents a stream of data; it returns one element at a time using the __next__() method.\n",
    "\n",
    "6. Explain the concept of generators in Python and how they are defined.\n",
    "  ->Generators are functions that return an iterable set of items, one at a time, in a special way using the yield keyword.\n",
    "\n",
    "7. What are the advantages of using generators over regular functions?\n",
    "  ->Normal function calculate value and return in one go which take lot of memory and time where as generator return \n",
    "    result one by one instead of one go using Yield keywords which save memory and time.\n",
    "\n",
    "8. What is a lambda function in Python and when is it typically used?\n",
    "  ->It's used for short, throwaway functions.Define with lambda keyword\n",
    "\n",
    "9. Explain the purpose and usage of the map()\"function in Python.\n",
    "  ->The map() function applies a given function to all items in an iterable (e.g., list) and returns a map object (an iterator).\n",
    "  ->list(map(add_fuc,list))\n",
    "\n",
    "10. What is the difference between \"map()\", \"reduce()\", and filter() functions in Python?\n",
    "  ->map():Applies a function to all items in an iterable.\n",
    "  ->reduce():Always take two argument function\n",
    "  ->filter():filter element from an iterable based on some conditions\n",
    "\n",
    "11. Using pen & Paper write the internal mechanism for sum operation using reduce function on this given\n",
    "    list:[47,11,42,13];\n",
    "    \n",
    "  ->https://drive.google.com/file/d/16-XI9qcLjiOiUpLHdT-TZE5lG8_fcVF-/view?usp=sharing\n",
    "\n",
    "(Attach paper image for this answer) in google drive.\n",
    "'''"
   ]
  },
  {
   "cell_type": "markdown",
   "id": "9628377c-e913-4a71-b457-0392df077673",
   "metadata": {},
   "source": [
    "#                  "
   ]
  },
  {
   "cell_type": "code",
   "execution_count": 69,
   "id": "b7bd7021-5c5d-4094-8bb1-3fb9b143c702",
   "metadata": {},
   "outputs": [
    {
     "data": {
      "text/plain": [
       "16"
      ]
     },
     "execution_count": 69,
     "metadata": {},
     "output_type": "execute_result"
    }
   ],
   "source": [
    "#1. Write a Python function that takes a list of numbers as input and returns the sum of all even numbers in the list.\n",
    "a=[2,1,3,4,4,5,6]\n",
    "\n",
    "sum((filter(lambda x:x%2==0,a)))\n",
    "\n"
   ]
  },
  {
   "cell_type": "code",
   "execution_count": 67,
   "id": "0889a482-565e-4cf9-a930-9c62ebc62590",
   "metadata": {},
   "outputs": [
    {
     "name": "stdin",
     "output_type": "stream",
     "text": [
      "type word that you want to reverse hello world\n"
     ]
    },
    {
     "data": {
      "text/plain": [
       "'dlrow olleh'"
      ]
     },
     "execution_count": 67,
     "metadata": {},
     "output_type": "execute_result"
    }
   ],
   "source": [
    "#2. Create a Python function that accepts a string and returns the reverse of that string.\n",
    "def rev(x):\n",
    "    return x[-1::-1]\n",
    "rev(input(\"type word that you want to reverse\"))\n",
    "\n"
   ]
  },
  {
   "cell_type": "code",
   "execution_count": 107,
   "id": "df3b2a0d-1b65-4dc1-8f90-46f1eb92075f",
   "metadata": {},
   "outputs": [
    {
     "name": "stdout",
     "output_type": "stream",
     "text": [
      "[1, 2, 4, 5]\n",
      "[1, 4, 16, 25]\n"
     ]
    }
   ],
   "source": [
    "#3.Implement a Python function that takes a list of integers and returns a new list containing the squares of each number.\n",
    "def sq(x):\n",
    "    return x**2\n",
    "old_list=[1,2,4,5]\n",
    "new_list=list(map(sq,old_list))\n",
    "print(old_list)\n",
    "print(new_list)\n"
   ]
  },
  {
   "cell_type": "code",
   "execution_count": 35,
   "id": "c26e99cd-b35b-4aac-a579-5ea93a5888d5",
   "metadata": {},
   "outputs": [
    {
     "name": "stdout",
     "output_type": "stream",
     "text": [
      "1\n",
      "5\n",
      "prime\n"
     ]
    }
   ],
   "source": [
    "#4. Write a Python function that checks if a given number is prime or not from 1 to 200.\n",
    "def func(x):\n",
    "    count=0\n",
    "    for i in range(1,x+1):\n",
    "        if x%i==0:\n",
    "            print(i)\n",
    "            count=count+1\n",
    "            if count>2:\n",
    "                break\n",
    "    if count==2:\n",
    "        print(\"prime\")\n",
    "    else:\n",
    "        print(\"Not prime\")\n",
    "        \n",
    "func(5)"
   ]
  },
  {
   "cell_type": "code",
   "execution_count": 42,
   "id": "c063227e-944c-4504-862e-a9ef8d9bd7c9",
   "metadata": {},
   "outputs": [
    {
     "data": {
      "text/plain": [
       "[0, 1, 1, 2, 3, 5, 8, 13, 21, 34, 55]"
      ]
     },
     "execution_count": 42,
     "metadata": {},
     "output_type": "execute_result"
    }
   ],
   "source": [
    "#5. Create an iterator class in Python that generates the Fibonacci sequence up to a specified number of terms.\n",
    "def fibonaci(x):\n",
    "    fib=lambda x:x if x<=1 else fib(x-1)+fib(x-2)\n",
    "    return [fib(i) for i in range(x+1)]\n",
    "fibonaci(10)"
   ]
  },
  {
   "cell_type": "code",
   "execution_count": 58,
   "id": "e4ed98e9-4fe6-4092-8882-c450d5d6b877",
   "metadata": {},
   "outputs": [
    {
     "data": {
      "text/plain": [
       "64"
      ]
     },
     "execution_count": 58,
     "metadata": {},
     "output_type": "execute_result"
    }
   ],
   "source": [
    "#6. Write a generator function in Python that yields the powers of 2 up to a given exponent.\n",
    "def power_2(x):\n",
    "    for i in range(1,x+1):\n",
    "        yield 2**i\n",
    "gen=power_2(10)\n",
    "next(gen)\n",
    "next(gen)\n",
    "next(gen)\n",
    "next(gen)\n",
    "next(gen)\n",
    "next(gen)\n"
   ]
  },
  {
   "cell_type": "code",
   "execution_count": 17,
   "id": "71aa985b-5595-4816-bab3-a00f0dd756e8",
   "metadata": {},
   "outputs": [
    {
     "name": "stdout",
     "output_type": "stream",
     "text": [
      "This\n",
      "is\n",
      "an\n",
      "example\n",
      "sentence.\n"
     ]
    }
   ],
   "source": [
    "#7. Implement a generator function that reads a file line by line and yields each line as a string.\n",
    "def sentence_generator(sentence):\n",
    "    words = sentence.split()\n",
    "    yield from words\n",
    "\n",
    "# Usage\n",
    "sentence = \"This is an example sentence.\"\n",
    "for word in sentence_generator(sentence):\n",
    "    print(word)\n"
   ]
  },
  {
   "cell_type": "code",
   "execution_count": 43,
   "id": "fbf689e3-fd9e-4933-80c6-9dede955b74e",
   "metadata": {},
   "outputs": [
    {
     "data": {
      "text/plain": [
       "[(9, 2, 3, 4, 8), (5, 3, 9, 7, 6), (4, 6, 8, 7, 3), (4, 8, 9, 6, 4)]"
      ]
     },
     "execution_count": 43,
     "metadata": {},
     "output_type": "execute_result"
    }
   ],
   "source": [
    "#8. Use a lambda function in Python to sort a list of tuples based on the second element of each tuple.\n",
    "list1=[(4,8,9,6,4),(5,3,9,7,6),(4,6,8,7,3),(9,2,3,4,8)]\n",
    "sorted(list1,key=lambda list1:list1[1])\n"
   ]
  },
  {
   "cell_type": "code",
   "execution_count": 21,
   "id": "3658e67d-b2bd-4381-988b-b3c5f90157a6",
   "metadata": {},
   "outputs": [
    {
     "data": {
      "text/plain": [
       "[86.0, 71.6, 113.0, 122.0]"
      ]
     },
     "execution_count": 21,
     "metadata": {},
     "output_type": "execute_result"
    }
   ],
   "source": [
    "#9. Write a Python program that uses map() to convert a list of temperatures from Celsius to Fahrenheit.\n",
    "def cels_to_fahren(x):\n",
    "    fehrenheit=(x*9/5)+32\n",
    "    return fehrenheit\n",
    "list2=[30,22,45,50]\n",
    "list(map(cels_to_fahren,list2))"
   ]
  },
  {
   "cell_type": "code",
   "execution_count": 1,
   "id": "5326f5cd-9bbd-4667-aa78-f31215e6cd5a",
   "metadata": {},
   "outputs": [
    {
     "data": {
      "text/plain": [
       "'sdhnsh'"
      ]
     },
     "execution_count": 1,
     "metadata": {},
     "output_type": "execute_result"
    }
   ],
   "source": [
    "#10. Create a Python program that uses \"filter() to remove all the vowels from a given string.\n",
    "vowels=\"aeiouAEIOU\"\n",
    "str=\"sudhanshu\"\n",
    "\n",
    "k=\"\".join(filter(lambda x:x not in vowels,str))\n",
    "k\n"
   ]
  },
  {
   "cell_type": "code",
   "execution_count": null,
   "id": "76c0f453-fb6b-4b0b-a06c-6d7968446230",
   "metadata": {},
   "outputs": [],
   "source": [
    "#11) Imagine an accounting routine used in a book shop. It works on a list with sublists, which look like this:\n",
    "'''\n",
    "Order Number   Book Title and Author                  Quantity      Price per Item\n",
    "34587          Learning Python, Mark Lutz                  4          40.95\n",
    "98762          Programming Python, Mark Lutz               5          56.80\n",
    "77226          Head First Python, Paul Barry               3          32.95\n",
    "88112          Einführung in Python3, Bernd Klein          3          24.99\n",
    "\n",
    "\n",
    "Write a Python program, which returns a list with 2-tuples. Each tuple consists of the order number and the\n",
    "product of the price per item and the quantity. The product should be increased by 10€ if the value of the\n",
    "order is smaller than 100 €.\n",
    "\n",
    "Write a Python program using lambda and map.\n",
    "'''"
   ]
  },
  {
   "cell_type": "code",
   "execution_count": 14,
   "id": "58c369bc-228d-4395-a95d-e98722820f39",
   "metadata": {},
   "outputs": [
    {
     "name": "stdout",
     "output_type": "stream",
     "text": [
      "[(34587, 163.8), (98762, 284.0), (77226, 108.85000000000001), (88112, 84.97)]\n"
     ]
    }
   ],
   "source": [
    "orders = [ [34587, \"Learning Python, Mark Lutz\", 4, 40.95],\n",
    "          [98762, \"Programming Python, Mark Lutz\", 5, 56.80],\n",
    "          [77226, \"Head First Python, Paul Barry\", 3, 32.95],\n",
    "          [88112, \"Einführung in Python3, Bernd Klein\", 3, 24.99] ]\n",
    "calculate=lambda ord:(ord[0],(ord[2]*ord[3])+10 if ord[2]*ord[3]<100 else (ord[2]*ord[3]))\n",
    "\n",
    "prog=list(map(calculate,orders))\n",
    "print(prog)"
   ]
  },
  {
   "cell_type": "code",
   "execution_count": null,
   "id": "6e4edbae-fa16-4472-98fc-e39e217c65d7",
   "metadata": {},
   "outputs": [],
   "source": []
  }
 ],
 "metadata": {
  "kernelspec": {
   "display_name": "Python 3 (ipykernel)",
   "language": "python",
   "name": "python3"
  },
  "language_info": {
   "codemirror_mode": {
    "name": "ipython",
    "version": 3
   },
   "file_extension": ".py",
   "mimetype": "text/x-python",
   "name": "python",
   "nbconvert_exporter": "python",
   "pygments_lexer": "ipython3",
   "version": "3.12.7"
  }
 },
 "nbformat": 4,
 "nbformat_minor": 5
}
